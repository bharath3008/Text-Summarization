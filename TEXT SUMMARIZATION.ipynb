{
 "cells": [
  {
   "cell_type": "code",
   "execution_count": 79,
   "metadata": {},
   "outputs": [],
   "source": [
    "text = \"\"\"A stock market, equity market or share market is the aggregation of buyers and sellers of stocks (also called shares), which represent ownership claims on businesses; these may include securities listed on a public stock exchange, as well as stock that is only traded privately, such as shares of private companies which are sold to investors through equity crowdfunding platforms. Investment in the stock market is most often done via stockbrokerages and electronic trading platforms. Investment is usually made with an investment strategy in mind.\n",
    "\n",
    "Stocks can be categorized by the country where the company is domiciled. For example, Nestlé and Novartis are domiciled in Switzerland and traded on the SIX Swiss Exchange, so they may be considered as part of the Swiss stock market, although the stocks may also be traded on exchanges in other countries, for example, as American depositary receipts (ADRs) on U.S. stock market\n",
    "\"\"\""
   ]
  },
  {
   "cell_type": "code",
   "execution_count": 80,
   "metadata": {},
   "outputs": [],
   "source": [
    "import spacy\n",
    "from spacy.lang.en.stop_words import STOP_WORDS\n",
    "from string import punctuation"
   ]
  },
  {
   "cell_type": "code",
   "execution_count": 81,
   "metadata": {},
   "outputs": [],
   "source": [
    "stopwords = list(STOP_WORDS)"
   ]
  },
  {
   "cell_type": "code",
   "execution_count": 82,
   "metadata": {},
   "outputs": [],
   "source": [
    "nlp = spacy.load('en_core_web_sm')"
   ]
  },
  {
   "cell_type": "code",
   "execution_count": 83,
   "metadata": {},
   "outputs": [],
   "source": [
    "doc = nlp(text)"
   ]
  },
  {
   "cell_type": "code",
   "execution_count": 84,
   "metadata": {},
   "outputs": [
    {
     "name": "stdout",
     "output_type": "stream",
     "text": [
      "['A', 'stock', 'market', ',', 'equity', 'market', 'or', 'share', 'market', 'is', 'the', 'aggregation', 'of', 'buyers', 'and', 'sellers', 'of', 'stocks', '(', 'also', 'called', 'shares', ')', ',', 'which', 'represent', 'ownership', 'claims', 'on', 'businesses', ';', 'these', 'may', 'include', 'securities', 'listed', 'on', 'a', 'public', 'stock', 'exchange', ',', 'as', 'well', 'as', 'stock', 'that', 'is', 'only', 'traded', 'privately', ',', 'such', 'as', 'shares', 'of', 'private', 'companies', 'which', 'are', 'sold', 'to', 'investors', 'through', 'equity', 'crowdfunding', 'platforms', '.', 'Investment', 'in', 'the', 'stock', 'market', 'is', 'most', 'often', 'done', 'via', 'stockbrokerages', 'and', 'electronic', 'trading', 'platforms', '.', 'Investment', 'is', 'usually', 'made', 'with', 'an', 'investment', 'strategy', 'in', 'mind', '.', '\\n\\n', 'Stocks', 'can', 'be', 'categorized', 'by', 'the', 'country', 'where', 'the', 'company', 'is', 'domiciled', '.', 'For', 'example', ',', 'Nestlé', 'and', 'Novartis', 'are', 'domiciled', 'in', 'Switzerland', 'and', 'traded', 'on', 'the', 'SIX', 'Swiss', 'Exchange', ',', 'so', 'they', 'may', 'be', 'considered', 'as', 'part', 'of', 'the', 'Swiss', 'stock', 'market', ',', 'although', 'the', 'stocks', 'may', 'also', 'be', 'traded', 'on', 'exchanges', 'in', 'other', 'countries', ',', 'for', 'example', ',', 'as', 'American', 'depositary', 'receipts', '(', 'ADRs', ')', 'on', 'U.S.', 'stock', 'market', '\\n']\n"
     ]
    }
   ],
   "source": [
    "tokens = [token.text for token in doc]\n",
    "print(tokens)"
   ]
  },
  {
   "cell_type": "code",
   "execution_count": 85,
   "metadata": {},
   "outputs": [
    {
     "data": {
      "text/plain": [
       "'!\"#$%&\\'()*+,-./:;<=>?@[\\\\]^_`{|}~\\n'"
      ]
     },
     "execution_count": 85,
     "metadata": {},
     "output_type": "execute_result"
    }
   ],
   "source": [
    "punctuation = punctuation + '\\n'\n",
    "punctuation"
   ]
  },
  {
   "cell_type": "code",
   "execution_count": 86,
   "metadata": {},
   "outputs": [],
   "source": [
    "word_frequencies = {}\n",
    "for word in doc:\n",
    "    if word.text.lower() not in stopwords:\n",
    "        if word.text.lower() not in punctuation:\n",
    "            if word.text not in word_frequencies.keys():\n",
    "                word_frequencies[word.text] = 1\n",
    "            else:\n",
    "                word_frequencies[word.text]+=1"
   ]
  },
  {
   "cell_type": "code",
   "execution_count": 87,
   "metadata": {},
   "outputs": [
    {
     "name": "stdout",
     "output_type": "stream",
     "text": [
      "{'stock': 6, 'market': 6, 'equity': 2, 'share': 1, 'aggregation': 1, 'buyers': 1, 'sellers': 1, 'stocks': 2, 'called': 1, 'shares': 2, 'represent': 1, 'ownership': 1, 'claims': 1, 'businesses': 1, 'include': 1, 'securities': 1, 'listed': 1, 'public': 1, 'exchange': 1, 'traded': 3, 'privately': 1, 'private': 1, 'companies': 1, 'sold': 1, 'investors': 1, 'crowdfunding': 1, 'platforms': 2, 'Investment': 2, 'stockbrokerages': 1, 'electronic': 1, 'trading': 1, 'usually': 1, 'investment': 1, 'strategy': 1, 'mind': 1, '\\n\\n': 1, 'Stocks': 1, 'categorized': 1, 'country': 1, 'company': 1, 'domiciled': 2, 'example': 2, 'Nestlé': 1, 'Novartis': 1, 'Switzerland': 1, 'Swiss': 2, 'Exchange': 1, 'considered': 1, 'exchanges': 1, 'countries': 1, 'American': 1, 'depositary': 1, 'receipts': 1, 'ADRs': 1, 'U.S.': 1}\n"
     ]
    }
   ],
   "source": [
    "print(word_frequencies)"
   ]
  },
  {
   "cell_type": "code",
   "execution_count": 88,
   "metadata": {},
   "outputs": [],
   "source": [
    "max_frequency = max(word_frequencies.values())"
   ]
  },
  {
   "cell_type": "code",
   "execution_count": 89,
   "metadata": {},
   "outputs": [
    {
     "data": {
      "text/plain": [
       "6"
      ]
     },
     "execution_count": 89,
     "metadata": {},
     "output_type": "execute_result"
    }
   ],
   "source": [
    "max_frequency"
   ]
  },
  {
   "cell_type": "code",
   "execution_count": 90,
   "metadata": {},
   "outputs": [],
   "source": [
    "for word in word_frequencies.keys():\n",
    "    word_frequencies[word] = word_frequencies[word]/max_frequency"
   ]
  },
  {
   "cell_type": "code",
   "execution_count": 91,
   "metadata": {},
   "outputs": [
    {
     "name": "stdout",
     "output_type": "stream",
     "text": [
      "{'stock': 1.0, 'market': 1.0, 'equity': 0.3333333333333333, 'share': 0.16666666666666666, 'aggregation': 0.16666666666666666, 'buyers': 0.16666666666666666, 'sellers': 0.16666666666666666, 'stocks': 0.3333333333333333, 'called': 0.16666666666666666, 'shares': 0.3333333333333333, 'represent': 0.16666666666666666, 'ownership': 0.16666666666666666, 'claims': 0.16666666666666666, 'businesses': 0.16666666666666666, 'include': 0.16666666666666666, 'securities': 0.16666666666666666, 'listed': 0.16666666666666666, 'public': 0.16666666666666666, 'exchange': 0.16666666666666666, 'traded': 0.5, 'privately': 0.16666666666666666, 'private': 0.16666666666666666, 'companies': 0.16666666666666666, 'sold': 0.16666666666666666, 'investors': 0.16666666666666666, 'crowdfunding': 0.16666666666666666, 'platforms': 0.3333333333333333, 'Investment': 0.3333333333333333, 'stockbrokerages': 0.16666666666666666, 'electronic': 0.16666666666666666, 'trading': 0.16666666666666666, 'usually': 0.16666666666666666, 'investment': 0.16666666666666666, 'strategy': 0.16666666666666666, 'mind': 0.16666666666666666, '\\n\\n': 0.16666666666666666, 'Stocks': 0.16666666666666666, 'categorized': 0.16666666666666666, 'country': 0.16666666666666666, 'company': 0.16666666666666666, 'domiciled': 0.3333333333333333, 'example': 0.3333333333333333, 'Nestlé': 0.16666666666666666, 'Novartis': 0.16666666666666666, 'Switzerland': 0.16666666666666666, 'Swiss': 0.3333333333333333, 'Exchange': 0.16666666666666666, 'considered': 0.16666666666666666, 'exchanges': 0.16666666666666666, 'countries': 0.16666666666666666, 'American': 0.16666666666666666, 'depositary': 0.16666666666666666, 'receipts': 0.16666666666666666, 'ADRs': 0.16666666666666666, 'U.S.': 0.16666666666666666}\n"
     ]
    }
   ],
   "source": [
    "print(word_frequencies)"
   ]
  },
  {
   "cell_type": "code",
   "execution_count": 92,
   "metadata": {
    "scrolled": true
   },
   "outputs": [
    {
     "name": "stdout",
     "output_type": "stream",
     "text": [
      "[A stock market, equity market or share market is the aggregation of buyers and sellers of stocks (also called shares), which represent ownership claims on businesses; these may include securities listed on a public stock exchange, as well as stock that is only traded privately, such as shares of private companies which are sold to investors through equity crowdfunding platforms., Investment in the stock market is most often done via stockbrokerages and electronic trading platforms., Investment is usually made with an investment strategy in mind.\n",
      "\n",
      ", Stocks can be categorized by the country where the company is domiciled., For example, Nestlé and Novartis are domiciled in Switzerland and traded on the SIX Swiss Exchange, so they may be considered as part of the Swiss stock market, although the stocks may also be traded on exchanges in other countries, for example, as American depositary receipts (ADRs) on U.S. stock market\n",
      "]\n"
     ]
    }
   ],
   "source": [
    "sentence_tokens = [sent for sent in doc.sents]\n",
    "print(sentence_tokens)"
   ]
  },
  {
   "cell_type": "code",
   "execution_count": 93,
   "metadata": {},
   "outputs": [],
   "source": [
    "sentence_scores = {}\n",
    "for sent in sentence_tokens:\n",
    "    for word in sent:\n",
    "        if word.text.lower() in word_frequencies.keys():\n",
    "            if sent not in sentence_scores.keys():\n",
    "                sentence_scores[sent] = word_frequencies[word.text.lower()]\n",
    "            else:\n",
    "                sentence_scores[sent] += word_frequencies[word.text.lower()]"
   ]
  },
  {
   "cell_type": "code",
   "execution_count": 94,
   "metadata": {},
   "outputs": [
    {
     "name": "stdout",
     "output_type": "stream",
     "text": [
      "{A stock market, equity market or share market is the aggregation of buyers and sellers of stocks (also called shares), which represent ownership claims on businesses; these may include securities listed on a public stock exchange, as well as stock that is only traded privately, such as shares of private companies which are sold to investors through equity crowdfunding platforms.: 11.833333333333334, Investment in the stock market is most often done via stockbrokerages and electronic trading platforms.: 3.0, Investment is usually made with an investment strategy in mind.\n",
      "\n",
      ": 0.9999999999999999, Stocks can be categorized by the country where the company is domiciled.: 1.1666666666666665, For example, Nestlé and Novartis are domiciled in Switzerland and traded on the SIX Swiss Exchange, so they may be considered as part of the Swiss stock market, although the stocks may also be traded on exchanges in other countries, for example, as American depositary receipts (ADRs) on U.S. stock market\n",
      ": 7.333333333333335}\n"
     ]
    }
   ],
   "source": [
    "print(sentence_scores)"
   ]
  },
  {
   "cell_type": "code",
   "execution_count": 95,
   "metadata": {},
   "outputs": [],
   "source": [
    "from heapq import nlargest"
   ]
  },
  {
   "cell_type": "code",
   "execution_count": 96,
   "metadata": {},
   "outputs": [
    {
     "data": {
      "text/plain": [
       "1"
      ]
     },
     "execution_count": 96,
     "metadata": {},
     "output_type": "execute_result"
    }
   ],
   "source": [
    "select_length = int(len(sentence_tokens)*0.3)\n",
    "select_length"
   ]
  },
  {
   "cell_type": "code",
   "execution_count": 97,
   "metadata": {},
   "outputs": [],
   "source": [
    "summary = nlargest(select_length,sentence_scores , key = sentence_scores.get)"
   ]
  },
  {
   "cell_type": "code",
   "execution_count": 98,
   "metadata": {},
   "outputs": [
    {
     "data": {
      "text/plain": [
       "[A stock market, equity market or share market is the aggregation of buyers and sellers of stocks (also called shares), which represent ownership claims on businesses; these may include securities listed on a public stock exchange, as well as stock that is only traded privately, such as shares of private companies which are sold to investors through equity crowdfunding platforms.]"
      ]
     },
     "execution_count": 98,
     "metadata": {},
     "output_type": "execute_result"
    }
   ],
   "source": [
    "summary"
   ]
  },
  {
   "cell_type": "code",
   "execution_count": 99,
   "metadata": {},
   "outputs": [],
   "source": [
    "final_summary = [word.text for word in summary]"
   ]
  },
  {
   "cell_type": "code",
   "execution_count": 100,
   "metadata": {},
   "outputs": [
    {
     "name": "stdout",
     "output_type": "stream",
     "text": [
      "A stock market, equity market or share market is the aggregation of buyers and sellers of stocks (also called shares), which represent ownership claims on businesses; these may include securities listed on a public stock exchange, as well as stock that is only traded privately, such as shares of private companies which are sold to investors through equity crowdfunding platforms.\n"
     ]
    }
   ],
   "source": [
    "summary = ' '.join(final_summary)\n",
    "print(summary)"
   ]
  },
  {
   "cell_type": "code",
   "execution_count": 101,
   "metadata": {},
   "outputs": [
    {
     "name": "stdout",
     "output_type": "stream",
     "text": [
      "A stock market, equity market or share market is the aggregation of buyers and sellers of stocks (also called shares), which represent ownership claims on businesses; these may include securities listed on a public stock exchange, as well as stock that is only traded privately, such as shares of private companies which are sold to investors through equity crowdfunding platforms. Investment in the stock market is most often done via stockbrokerages and electronic trading platforms. Investment is usually made with an investment strategy in mind.\n",
      "\n",
      "Stocks can be categorized by the country where the company is domiciled. For example, Nestlé and Novartis are domiciled in Switzerland and traded on the SIX Swiss Exchange, so they may be considered as part of the Swiss stock market, although the stocks may also be traded on exchanges in other countries, for example, as American depositary receipts (ADRs) on U.S. stock market\n",
      "\n"
     ]
    }
   ],
   "source": [
    "print(text)"
   ]
  },
  {
   "cell_type": "code",
   "execution_count": 102,
   "metadata": {},
   "outputs": [
    {
     "name": "stdout",
     "output_type": "stream",
     "text": [
      "A stock market, equity market or share market is the aggregation of buyers and sellers of stocks (also called shares), which represent ownership claims on businesses; these may include securities listed on a public stock exchange, as well as stock that is only traded privately, such as shares of private companies which are sold to investors through equity crowdfunding platforms.\n"
     ]
    }
   ],
   "source": [
    "print(summary)"
   ]
  },
  {
   "cell_type": "code",
   "execution_count": 103,
   "metadata": {},
   "outputs": [
    {
     "data": {
      "text/plain": [
       "930"
      ]
     },
     "execution_count": 103,
     "metadata": {},
     "output_type": "execute_result"
    }
   ],
   "source": [
    "len(text)"
   ]
  },
  {
   "cell_type": "code",
   "execution_count": 104,
   "metadata": {},
   "outputs": [
    {
     "data": {
      "text/plain": [
       "381"
      ]
     },
     "execution_count": 104,
     "metadata": {},
     "output_type": "execute_result"
    }
   ],
   "source": [
    "len(summary)"
   ]
  },
  {
   "cell_type": "code",
   "execution_count": null,
   "metadata": {},
   "outputs": [],
   "source": []
  },
  {
   "cell_type": "code",
   "execution_count": null,
   "metadata": {},
   "outputs": [],
   "source": []
  },
  {
   "cell_type": "code",
   "execution_count": null,
   "metadata": {},
   "outputs": [],
   "source": []
  },
  {
   "cell_type": "code",
   "execution_count": null,
   "metadata": {},
   "outputs": [],
   "source": []
  }
 ],
 "metadata": {
  "kernelspec": {
   "display_name": "Python 3",
   "language": "python",
   "name": "python3"
  },
  "language_info": {
   "codemirror_mode": {
    "name": "ipython",
    "version": 3
   },
   "file_extension": ".py",
   "mimetype": "text/x-python",
   "name": "python",
   "nbconvert_exporter": "python",
   "pygments_lexer": "ipython3",
   "version": "3.7.4"
  }
 },
 "nbformat": 4,
 "nbformat_minor": 2
}
